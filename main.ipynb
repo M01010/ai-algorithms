{
 "cells": [
  {
   "cell_type": "code",
   "outputs": [],
   "source": [
    "from search_algorithms.algorithms import GreedyBestFirstSearch, BestFirstSearch, DepthFirstSearch, AStarSearch\n",
    "from search_algorithms.tests import analyze_algorithms\n",
    "from n_queens_problem import NQueensProblem, collisions, num_queens_endangered"
   ],
   "metadata": {
    "collapsed": false,
    "ExecuteTime": {
     "end_time": "2024-02-24T15:23:58.797268900Z",
     "start_time": "2024-02-24T15:23:58.786062200Z"
    }
   },
   "id": "8128b422f312ff74",
   "execution_count": 1
  },
  {
   "cell_type": "code",
   "outputs": [
    {
     "data": {
      "text/plain": "[algorithm: GreedyBestFirstSearch, heuristic: num_queens_endangered\n time: 0.0002 Seconds, accuracy: 100.0%,\n algorithm: BestFirstSearch, heuristic: num_queens_endangered\n time: 0.0003 Seconds, accuracy: 100.0%,\n algorithm: GreedyBestFirstSearch, heuristic: collisions\n time: 0.00031 Seconds, accuracy: 100.0%,\n algorithm: BestFirstSearch, heuristic: collisions\n time: 0.0004 Seconds, accuracy: 100.0%,\n algorithm: AStarSearch, heuristic: num_queens_endangered\n time: 0.0006 Seconds, accuracy: 100.0%,\n algorithm: AStarSearch, heuristic: collisions\n time: 0.000621 Seconds, accuracy: 100.0%,\n algorithm: DepthFirstSearch\n time: 0.000651 Seconds, accuracy: 100.0%]"
     },
     "execution_count": 2,
     "metadata": {},
     "output_type": "execute_result"
    }
   ],
   "source": [
    "analyze_algorithms(\n",
    "    problems=[NQueensProblem(8, seed=i) for i in range(10)],\n",
    "    algorithms=[\n",
    "        BestFirstSearch(heuristic=collisions),\n",
    "        BestFirstSearch(heuristic=num_queens_endangered),\n",
    "        GreedyBestFirstSearch(heuristic=collisions),\n",
    "        GreedyBestFirstSearch(heuristic=num_queens_endangered),\n",
    "        AStarSearch(heuristic=collisions),\n",
    "        AStarSearch(heuristic=num_queens_endangered),\n",
    "        DepthFirstSearch(),\n",
    "    ],\n",
    ")"
   ],
   "metadata": {
    "collapsed": false,
    "ExecuteTime": {
     "end_time": "2024-02-24T15:23:59.056408200Z",
     "start_time": "2024-02-24T15:23:59.050210500Z"
    }
   },
   "id": "2b37d02942e4a12b",
   "execution_count": 2
  },
  {
   "cell_type": "code",
   "outputs": [],
   "source": [
    "p = NQueensProblem(8, seed=2)\n",
    "sol = GreedyBestFirstSearch(heuristic=collisions).solve(p)"
   ],
   "metadata": {
    "collapsed": false,
    "ExecuteTime": {
     "end_time": "2024-02-24T15:24:00.240714500Z",
     "start_time": "2024-02-24T15:24:00.227209400Z"
    }
   },
   "id": "e8ded384807e9d40",
   "execution_count": 3
  },
  {
   "cell_type": "code",
   "outputs": [
    {
     "data": {
      "text/plain": "[[1, 2, 3, 6, 5, 8, 7, 4],\n [7, 2, 3, 6, 5, 8, 1, 4],\n [7, 2, 6, 3, 5, 8, 1, 4],\n [2, 7, 6, 3, 5, 8, 1, 4],\n [2, 7, 1, 3, 5, 8, 6, 4],\n [2, 3, 1, 7, 5, 8, 6, 4],\n [5, 3, 1, 7, 2, 8, 6, 4]]"
     },
     "execution_count": 4,
     "metadata": {},
     "output_type": "execute_result"
    }
   ],
   "source": [
    "sol.path"
   ],
   "metadata": {
    "collapsed": false,
    "ExecuteTime": {
     "end_time": "2024-02-24T15:24:00.837202300Z",
     "start_time": "2024-02-24T15:24:00.834170300Z"
    }
   },
   "id": "6972bd2bb2d04355",
   "execution_count": 4
  },
  {
   "cell_type": "code",
   "outputs": [
    {
     "name": "stdout",
     "output_type": "stream",
     "text": [
      "[1, 2, 3, 6, 5, 8, 7, 4] -> [7, 2, 3, 6, 5, 8, 1, 4] -> [7, 2, 6, 3, 5, 8, 1, 4] -> [2, 7, 6, 3, 5, 8, 1, 4] -> [2, 7, 1, 3, 5, 8, 6, 4] -> [2, 3, 1, 7, 5, 8, 6, 4] -> [5, 3, 1, 7, 2, 8, 6, 4]\n"
     ]
    }
   ],
   "source": [
    "sol.show_path()"
   ],
   "metadata": {
    "collapsed": false,
    "ExecuteTime": {
     "end_time": "2024-02-24T15:24:01.211762300Z",
     "start_time": "2024-02-24T15:24:01.208995500Z"
    }
   },
   "id": "3fe56dd0c82e5de9",
   "execution_count": 5
  },
  {
   "cell_type": "code",
   "outputs": [
    {
     "data": {
      "text/plain": "[1, 2, 3, 6, 5, 8, 7, 4]"
     },
     "execution_count": 6,
     "metadata": {},
     "output_type": "execute_result"
    }
   ],
   "source": [
    "p.initial"
   ],
   "metadata": {
    "collapsed": false,
    "ExecuteTime": {
     "end_time": "2024-02-24T15:24:01.631954200Z",
     "start_time": "2024-02-24T15:24:01.628909300Z"
    }
   },
   "id": "5a28227e3346ec53",
   "execution_count": 6
  },
  {
   "cell_type": "code",
   "outputs": [
    {
     "data": {
      "text/plain": "[5, 3, 1, 7, 2, 8, 6, 4]"
     },
     "execution_count": 7,
     "metadata": {},
     "output_type": "execute_result"
    }
   ],
   "source": [
    "sol.state"
   ],
   "metadata": {
    "collapsed": false,
    "ExecuteTime": {
     "end_time": "2024-02-24T15:24:02.052755500Z",
     "start_time": "2024-02-24T15:24:02.050243500Z"
    }
   },
   "id": "895b83024e38dc88",
   "execution_count": 7
  },
  {
   "cell_type": "code",
   "outputs": [],
   "source": [],
   "metadata": {
    "collapsed": false
   },
   "id": "9c3e4233643273e0"
  }
 ],
 "metadata": {
  "kernelspec": {
   "display_name": "Python 3",
   "language": "python",
   "name": "python3"
  },
  "language_info": {
   "codemirror_mode": {
    "name": "ipython",
    "version": 2
   },
   "file_extension": ".py",
   "mimetype": "text/x-python",
   "name": "python",
   "nbconvert_exporter": "python",
   "pygments_lexer": "ipython2",
   "version": "2.7.6"
  }
 },
 "nbformat": 4,
 "nbformat_minor": 5
}

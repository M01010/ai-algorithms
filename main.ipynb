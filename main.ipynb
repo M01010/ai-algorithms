{
 "cells": [
  {
   "cell_type": "code",
   "execution_count": 1,
   "id": "initial_id",
   "metadata": {
    "collapsed": true,
    "ExecuteTime": {
     "end_time": "2024-02-23T10:13:50.812506900Z",
     "start_time": "2024-02-23T10:13:50.806017400Z"
    }
   },
   "outputs": [],
   "source": [
    "from search_algorithms import best_first_search, greedy_best_first_search, test_algorithm_combinations\n",
    "from n_queens_problem import NQueensProblem, collisions, num_queens_endangered"
   ]
  },
  {
   "cell_type": "code",
   "outputs": [
    {
     "name": "stdout",
     "output_type": "stream",
     "text": [
      "algorithm: best_first_search\n",
      "heuristic: collisions\n",
      "time: 0.019312 Seconds\n",
      "accuracy: 100.0%\n",
      "\n",
      "algorithm: best_first_search\n",
      "heuristic: num_queens_endangered\n",
      "time: 0.012379 Seconds\n",
      "accuracy: 100.0%\n",
      "\n",
      "algorithm: greedy_best_first_search\n",
      "heuristic: collisions\n",
      "time: 0.016895 Seconds\n",
      "accuracy: 100.0%\n",
      "\n",
      "algorithm: greedy_best_first_search\n",
      "heuristic: num_queens_endangered\n",
      "time: 0.010279 Seconds\n",
      "accuracy: 100.0%\n"
     ]
    }
   ],
   "source": [
    "test_algorithm_combinations(\n",
    "    problem=NQueensProblem(20, seed=0),\n",
    "    algorithms=[best_first_search, greedy_best_first_search],\n",
    "    heuristics=[collisions, num_queens_endangered],\n",
    "    iterations=1000\n",
    ")"
   ],
   "metadata": {
    "collapsed": false,
    "ExecuteTime": {
     "end_time": "2024-02-23T10:14:49.976106400Z",
     "start_time": "2024-02-23T10:13:51.106510600Z"
    }
   },
   "id": "8128b422f312ff74",
   "execution_count": 2
  },
  {
   "cell_type": "code",
   "outputs": [],
   "source": [],
   "metadata": {
    "collapsed": false
   },
   "id": "ee6ab61739cace5"
  }
 ],
 "metadata": {
  "kernelspec": {
   "display_name": "Python 3",
   "language": "python",
   "name": "python3"
  },
  "language_info": {
   "codemirror_mode": {
    "name": "ipython",
    "version": 2
   },
   "file_extension": ".py",
   "mimetype": "text/x-python",
   "name": "python",
   "nbconvert_exporter": "python",
   "pygments_lexer": "ipython2",
   "version": "2.7.6"
  }
 },
 "nbformat": 4,
 "nbformat_minor": 5
}

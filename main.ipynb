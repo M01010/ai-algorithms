{
 "cells": [
  {
   "cell_type": "code",
   "outputs": [],
   "source": [
    "from search_algorithms.algorithms import GreedyBestFirstSearch, BestFirstSearch, AStarSearch\n",
    "from search_algorithms.tests import analyze_algorithms\n",
    "from n_queens_problem import NQueensProblem, collisions, num_queens_endangered"
   ],
   "metadata": {
    "collapsed": false,
    "ExecuteTime": {
     "end_time": "2024-03-03T12:12:50.531606Z",
     "start_time": "2024-03-03T12:12:50.521410Z"
    }
   },
   "id": "8128b422f312ff74",
   "execution_count": 1
  },
  {
   "cell_type": "code",
   "outputs": [],
   "source": [
    "stats = analyze_algorithms(\n",
    "    problems=[NQueensProblem(100, seed=i) for i in range(1)],\n",
    "    algorithms=[\n",
    "        # BestFirstSearch(heuristic=collisions),\n",
    "        # BestFirstSearch(heuristic=num_queens_endangered),\n",
    "        GreedyBestFirstSearch(heuristic=collisions),\n",
    "        GreedyBestFirstSearch(heuristic=num_queens_endangered),\n",
    "        # AStarSearch(heuristic=collisions),\n",
    "        # AStarSearch(heuristic=num_queens_endangered),\n",
    "    ],\n",
    ")"
   ],
   "metadata": {
    "collapsed": false,
    "ExecuteTime": {
     "end_time": "2024-03-03T12:13:48.976835Z",
     "start_time": "2024-03-03T12:12:50.531606Z"
    }
   },
   "id": "2b37d02942e4a12b",
   "execution_count": 2
  },
  {
   "cell_type": "code",
   "outputs": [
    {
     "name": "stdout",
     "output_type": "stream",
     "text": [
      "algorithm: GreedyBestFirstSearch, heuristic: collisions\n",
      "time: 23.402046 Seconds, accuracy: 100.0%\n",
      "------------------------------\n",
      "algorithm: GreedyBestFirstSearch, heuristic: num_queens_endangered\n",
      "time: 35.041171 Seconds, accuracy: 100.0%\n",
      "------------------------------\n"
     ]
    }
   ],
   "source": [
    "for s in stats:\n",
    "    print(s)\n",
    "    print('-'* 30)"
   ],
   "metadata": {
    "collapsed": false,
    "ExecuteTime": {
     "end_time": "2024-03-03T12:13:48.981524Z",
     "start_time": "2024-03-03T12:13:48.976835Z"
    }
   },
   "id": "7770b714e63705ae",
   "execution_count": 3
  },
  {
   "cell_type": "code",
   "outputs": [],
   "source": [
    "p = NQueensProblem(8, seed=2)\n",
    "sol = GreedyBestFirstSearch(heuristic=collisions).solve(p)"
   ],
   "metadata": {
    "collapsed": false,
    "ExecuteTime": {
     "end_time": "2024-02-29T17:40:11.613403500Z",
     "start_time": "2024-02-29T17:40:11.609369700Z"
    }
   },
   "id": "e8ded384807e9d40",
   "execution_count": 5
  },
  {
   "cell_type": "code",
   "outputs": [
    {
     "data": {
      "text/plain": "[[1, 2, 3, 6, 5, 8, 7, 4],\n [7, 2, 3, 6, 5, 8, 1, 4],\n [7, 2, 6, 3, 5, 8, 1, 4],\n [2, 7, 6, 3, 5, 8, 1, 4],\n [2, 7, 1, 3, 5, 8, 6, 4],\n [2, 3, 1, 7, 5, 8, 6, 4],\n [5, 3, 1, 7, 2, 8, 6, 4]]"
     },
     "execution_count": 6,
     "metadata": {},
     "output_type": "execute_result"
    }
   ],
   "source": [
    "sol.path"
   ],
   "metadata": {
    "collapsed": false,
    "ExecuteTime": {
     "end_time": "2024-02-29T17:40:13.994972100Z",
     "start_time": "2024-02-29T17:40:13.988928500Z"
    }
   },
   "id": "6972bd2bb2d04355",
   "execution_count": 6
  },
  {
   "cell_type": "code",
   "outputs": [
    {
     "name": "stdout",
     "output_type": "stream",
     "text": [
      "[1, 2, 3, 6, 5, 8, 7, 4] -> [7, 2, 3, 6, 5, 8, 1, 4] -> [7, 2, 6, 3, 5, 8, 1, 4] -> [2, 7, 6, 3, 5, 8, 1, 4] -> [2, 7, 1, 3, 5, 8, 6, 4] -> [2, 3, 1, 7, 5, 8, 6, 4] -> [5, 3, 1, 7, 2, 8, 6, 4]\n"
     ]
    }
   ],
   "source": [
    "sol.show_path()"
   ],
   "metadata": {
    "collapsed": false,
    "ExecuteTime": {
     "end_time": "2024-02-29T17:40:14.281981600Z",
     "start_time": "2024-02-29T17:40:14.275837300Z"
    }
   },
   "id": "3fe56dd0c82e5de9",
   "execution_count": 7
  },
  {
   "cell_type": "code",
   "outputs": [
    {
     "data": {
      "text/plain": "[1, 2, 3, 6, 5, 8, 7, 4]"
     },
     "execution_count": 8,
     "metadata": {},
     "output_type": "execute_result"
    }
   ],
   "source": [
    "p.initial"
   ],
   "metadata": {
    "collapsed": false,
    "ExecuteTime": {
     "end_time": "2024-02-29T17:40:14.810997500Z",
     "start_time": "2024-02-29T17:40:14.805464100Z"
    }
   },
   "id": "5a28227e3346ec53",
   "execution_count": 8
  },
  {
   "cell_type": "code",
   "outputs": [
    {
     "data": {
      "text/plain": "[5, 3, 1, 7, 2, 8, 6, 4]"
     },
     "execution_count": 9,
     "metadata": {},
     "output_type": "execute_result"
    }
   ],
   "source": [
    "sol.state"
   ],
   "metadata": {
    "collapsed": false,
    "ExecuteTime": {
     "end_time": "2024-02-29T17:40:15.121998Z",
     "start_time": "2024-02-29T17:40:15.117384300Z"
    }
   },
   "id": "895b83024e38dc88",
   "execution_count": 9
  },
  {
   "cell_type": "code",
   "outputs": [
    {
     "data": {
      "text/plain": "[0, 0]"
     },
     "execution_count": 45,
     "metadata": {},
     "output_type": "execute_result"
    }
   ],
   "source": [
    "[[0] * len(queens_positions) for _ in range(len(queens_positions))][0]"
   ],
   "metadata": {
    "collapsed": false,
    "ExecuteTime": {
     "end_time": "2024-02-29T18:14:02.036527100Z",
     "start_time": "2024-02-29T18:14:02.034574600Z"
    }
   },
   "id": "559bfd9aed25e783",
   "execution_count": 45
  },
  {
   "cell_type": "code",
   "outputs": [],
   "source": [],
   "metadata": {
    "collapsed": false
   },
   "id": "278e1780c2e06538",
   "execution_count": null
  }
 ],
 "metadata": {
  "kernelspec": {
   "display_name": "Python 3",
   "language": "python",
   "name": "python3"
  },
  "language_info": {
   "codemirror_mode": {
    "name": "ipython",
    "version": 2
   },
   "file_extension": ".py",
   "mimetype": "text/x-python",
   "name": "python",
   "nbconvert_exporter": "python",
   "pygments_lexer": "ipython2",
   "version": "2.7.6"
  }
 },
 "nbformat": 4,
 "nbformat_minor": 5
}

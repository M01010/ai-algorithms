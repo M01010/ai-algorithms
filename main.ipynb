{
 "cells": [
  {
   "cell_type": "code",
   "outputs": [],
   "source": [
    "from search_algorithms.algorithms import GreedyBestFirstSearch, BestFirstSearch, DepthFirstSearch, BreadthFirstSearch, UniformCostSearch, AStarSearch\n",
    "from search_algorithms.tests import analyze_algorithms, show_stats\n",
    "from n_queens_problem import NQueensProblem, collisions, num_queens_endangered"
   ],
   "metadata": {
    "collapsed": false,
    "ExecuteTime": {
     "end_time": "2024-02-23T16:43:30.311102100Z",
     "start_time": "2024-02-23T16:43:30.305771100Z"
    }
   },
   "id": "8128b422f312ff74",
   "execution_count": 1
  },
  {
   "cell_type": "code",
   "outputs": [],
   "source": [
    "n = 12\n",
    "iterations = 3\n",
    "stats = analyze_algorithms(\n",
    "    problems=[NQueensProblem(n, seed=i) for i in range(iterations)],\n",
    "    algorithms=[\n",
    "        BestFirstSearch(heuristic=collisions),\n",
    "        BestFirstSearch(heuristic=num_queens_endangered),\n",
    "        GreedyBestFirstSearch(heuristic=collisions),\n",
    "        GreedyBestFirstSearch(heuristic=num_queens_endangered),\n",
    "        AStarSearch(heuristic=collisions),\n",
    "        AStarSearch(heuristic=num_queens_endangered),\n",
    "        DepthFirstSearch(),\n",
    "        # BreadthFirstSearch(),\n",
    "        # UniformCostSearch()\n",
    "    ],\n",
    ")"
   ],
   "metadata": {
    "collapsed": false,
    "ExecuteTime": {
     "end_time": "2024-02-23T16:43:30.963556900Z",
     "start_time": "2024-02-23T16:43:30.312102700Z"
    }
   },
   "id": "2b37d02942e4a12b",
   "execution_count": 2
  },
  {
   "cell_type": "code",
   "outputs": [
    {
     "name": "stdout",
     "output_type": "stream",
     "text": [
      "algorithm: GreedyBestFirstSearch, heuristic: collisions\n",
      "time: 0.001692 Seconds, accuracy: 100.0%\n",
      "\n",
      "algorithm: BestFirstSearch, heuristic: collisions\n",
      "time: 0.001836 Seconds, accuracy: 100.0%\n",
      "\n",
      "algorithm: BestFirstSearch, heuristic: num_queens_endangered\n",
      "time: 0.002 Seconds, accuracy: 100.0%\n",
      "\n",
      "algorithm: AStarSearch, heuristic: collisions\n",
      "time: 0.002001 Seconds, accuracy: 100.0%\n",
      "\n",
      "algorithm: GreedyBestFirstSearch, heuristic: num_queens_endangered\n",
      "time: 0.002169 Seconds, accuracy: 100.0%\n",
      "\n",
      "algorithm: AStarSearch, heuristic: num_queens_endangered\n",
      "time: 0.004168 Seconds, accuracy: 100.0%\n",
      "\n",
      "algorithm: DepthFirstSearch\n",
      "time: 0.202537 Seconds, accuracy: 100.0%\n"
     ]
    }
   ],
   "source": [
    "show_stats(stats)"
   ],
   "metadata": {
    "collapsed": false,
    "ExecuteTime": {
     "end_time": "2024-02-23T16:43:32.670489800Z",
     "start_time": "2024-02-23T16:43:32.668458Z"
    }
   },
   "id": "c6e56257a7491ab5",
   "execution_count": 3
  },
  {
   "cell_type": "code",
   "outputs": [],
   "source": [],
   "metadata": {
    "collapsed": false
   },
   "id": "e8ded384807e9d40"
  }
 ],
 "metadata": {
  "kernelspec": {
   "display_name": "Python 3",
   "language": "python",
   "name": "python3"
  },
  "language_info": {
   "codemirror_mode": {
    "name": "ipython",
    "version": 2
   },
   "file_extension": ".py",
   "mimetype": "text/x-python",
   "name": "python",
   "nbconvert_exporter": "python",
   "pygments_lexer": "ipython2",
   "version": "2.7.6"
  }
 },
 "nbformat": 4,
 "nbformat_minor": 5
}
